{
 "cells": [
  {
   "cell_type": "markdown",
   "metadata": {
    "collapsed": true
   },
   "source": [
    "## MESA lab: An exploration in agent-based models using forest fire simulation"
   ]
  },
  {
   "cell_type": "markdown",
   "metadata": {},
   "source": [
    "Import the necessary packages: "
   ]
  },
  {
   "cell_type": "code",
   "execution_count": null,
   "metadata": {
    "collapsed": false
   },
   "outputs": [],
   "source": [
    "import random\n",
    "from numpy.random import uniform\n",
    "from numpy import multiply\n",
    "import numpy as np\n",
    "import seaborn as sns\n",
    "import matplotlib.pyplot as plt\n",
    "%matplotlib inline\n",
    "\n",
    "from mesa import Model, Agent\n",
    "from mesa.time import RandomActivation\n",
    "from mesa.space import Grid\n",
    "from mesa.datacollection import DataCollector\n",
    "from mesa.batchrunner import BatchRunner\n",
    "\n",
    "from numpy import multiply\n",
    "from scipy.ndimage.filters import gaussian_filter\n",
    "\n",
    "import pandas as pd\n",
    "import matplotlib.cm as cm\n",
    "from math import pi\n",
    "from windrose import WindroseAxes"
   ]
  },
  {
   "cell_type": "markdown",
   "metadata": {
    "collapsed": true
   },
   "source": [
    "The Python package MESA aids in the modeling, analysis, and visualization of agent-based data, making it a perfect candidate for use in modeling forest fires. "
   ]
  },
  {
   "cell_type": "code",
   "execution_count": 4,
   "metadata": {
    "collapsed": false
   },
   "outputs": [],
   "source": [
    "class TreeCell(Agent):\n",
    "    '''\n",
    "    A tree cell.\n",
    "    \n",
    "    Attributes:\n",
    "        x, y: Grid coordinates\n",
    "        condition: Can be \"Fine\", \"On Fire\", or \"Burned Out\"\n",
    "        unique_id: (x,y) tuple. \n",
    "    \n",
    "    unique_id isn't strictly necessary here, but it's good practice to give one to each\n",
    "    agent anyway.\n",
    "    '''\n",
    "    def __init__(self, model, pos, elevation):\n",
    "        '''\n",
    "        Create a new tree.\n",
    "        Args:\n",
    "            pos: The tree's coordinates on the grid. Used as the unique_id\n",
    "        '''\n",
    "        super().__init__(pos, model)\n",
    "        self.pos = pos\n",
    "        self.unique_id = pos\n",
    "        self.condition = \"Fine\"\n",
    "        self.elevation = elevation\n",
    "        self.agent_type = \"Old\"\n",
    "        \n",
    "        if self.condition == \"On Fire\" and self.agent_type==\"Old\" and self.elevation==\"1500\":\n",
    "            neighbors = self.model.grid.get_neighbors(self.pos, 5) \n",
    "            for neighbor in neighbors:\n",
    "                if neighbor.condition == \"Fine\":\n",
    "                    neighbor.condition = \"On Fire\"\n",
    "            self.condition = \"Burned\"\n",
    "        if self.condition == \"On Fire\" and self.agent_type==\"Old\" and self.elevation==\"500\":\n",
    "            neighbors = self.model.grid.get_neighbors(self.pos, 7) # the rule for old trees is 5 neighboring pixels will burn\n",
    "            for neighbor in neighbors:\n",
    "                if neighbor.condition == \"Fine\":\n",
    "                    neighbor.condition = \"On Fire\"\n",
    "            self.condition = \"Burned\"\n",
    "        if self.condition == \"On Fire\" and self.agent_type==\"Young\" and self.elevation==\"1500\":\n",
    "            neighbors = self.model.grid.get_neighbors(self.pos, 2) \n",
    "            for neighbor in neighbors:\n",
    "                if neighbor.condition == \"Fine\":\n",
    "                    neighbor.condition = \"On Fire\"\n",
    "            self.condition = \"Burned\"\n",
    "        if self.condition == \"On Fire\" and self.agent_type==\"Young\" and self.elevation==\"500\":\n",
    "            neighbors = self.model.grid.get_neighbors(self.pos, 4) \n",
    "            for neighbor in neighbors:\n",
    "                if neighbor.condition == \"Fine\":\n",
    "                    neighbor.condition = \"On Fire\"\n",
    "            self.condition = \"Burned\""
   ]
  },
  {
   "cell_type": "code",
   "execution_count": null,
   "metadata": {
    "collapsed": true
   },
   "outputs": [],
   "source": []
  },
  {
   "cell_type": "code",
   "execution_count": 12,
   "metadata": {
    "collapsed": true
   },
   "outputs": [],
   "source": [
    "class ForestFire(Model):\n",
    "    def __init__(self, height, width, density, fracYoung, fracOld):\n",
    "        '''\n",
    "        Args:\n",
    "            height, width: The size of the grid to model\n",
    "            density: What fraction of grid cells have a tree in them.\n",
    "        '''\n",
    "        # Initialize model parameters\n",
    "        self.height = height\n",
    "        self.width = width\n",
    "        self.density = density\n",
    "        self.fracYoung = fracYoung  # percentage of the old trees\n",
    "        self.fracOld = fracOld  #percentage of the young trees \n",
    "     \n",
    "        \n",
    "        # Set up model objects\n",
    "        self.schedule = RandomActivation(self)\n",
    "        self.grid = Grid(height, width, torus=False)\n",
    "        self.dc = DataCollector({\"Fine\": lambda m: self.count_type(m, \"Fine\"),\n",
    "                                \"On Fire\": lambda m: self.count_type(m, \"On Fire\"),\n",
    "                                \"Burned\": lambda m: self.count_type(m, \"Burned\")})\n",
    "        \n",
    "        # Place a tree in each cell with Prob = density\n",
    "        for x in range(self.width):\n",
    "            for y in range(self.height):\n",
    "                if random.random() < self.density:\n",
    "                    if random.random() < self.fracYoung:\n",
    "                        agent_type = \"Old\"\n",
    "                    else:\n",
    "                        agent_type = \"Young\"\n",
    "                    if random.random() < self.fracOld:\n",
    "                        agent_type = \"Young\"\n",
    "                    else:\n",
    "                        agent_type = \"Old\"    \n",
    "                    # Make a tree\n",
    "                    new_tree = TreeCell(self, (x, y),agent_type)\n",
    "                    # Set all trees in the first column on fire. Yikes, feels like exactly what you are not supposed to do. \n",
    "                    if x == 0:\n",
    "                        new_tree.condition = \"On Fire\"\n",
    "                    self.grid[y][x] = new_tree\n",
    "                    self.schedule.add(new_tree)\n",
    "        self.running = True"
   ]
  },
  {
   "cell_type": "code",
   "execution_count": null,
   "metadata": {
    "collapsed": true
   },
   "outputs": [],
   "source": []
  },
  {
   "cell_type": "code",
   "execution_count": 13,
   "metadata": {
    "collapsed": false
   },
   "outputs": [],
   "source": [
    "    def step(self):\n",
    "        '''\n",
    "        Advance the model by one step.\n",
    "        '''\n",
    "        self.schedule.step()\n",
    "        self.dc.collect(self)\n",
    "        # Halt if no more fire\n",
    "        if self.count_type(self, \"On Fire\") == 0:\n",
    "            self.running = False\n",
    "           \n",
    "    @staticmethod    \n",
    "    def count_type(model, tree_condition):\n",
    "        '''\n",
    "        Helper method to count trees in a given condition in a given model.\n",
    "        '''\n",
    "        count = 0\n",
    "        for tree in model.schedule.agents:\n",
    "            if tree.condition == tree_condition:\n",
    "                count += 1\n",
    "        return count"
   ]
  },
  {
   "cell_type": "code",
   "execution_count": null,
   "metadata": {
    "collapsed": true
   },
   "outputs": [],
   "source": [
    "fire = ForestFire(100, 100, 0.9, 0.7,0.3)  \n",
    "fire.run_model()\n",
    "results1 = fire.dc.get_model_vars_dataframe()\n",
    "#results1.plot()\n",
    "#plt.xlim(0,30)"
   ]
  },
  {
   "cell_type": "code",
   "execution_count": null,
   "metadata": {
    "collapsed": true
   },
   "outputs": [],
   "source": []
  }
 ],
 "metadata": {
  "anaconda-cloud": {},
  "kernelspec": {
   "display_name": "Python [Root]",
   "language": "python",
   "name": "Python [Root]"
  },
  "language_info": {
   "codemirror_mode": {
    "name": "ipython",
    "version": 3
   },
   "file_extension": ".py",
   "mimetype": "text/x-python",
   "name": "python",
   "nbconvert_exporter": "python",
   "pygments_lexer": "ipython3",
   "version": "3.5.2"
  }
 },
 "nbformat": 4,
 "nbformat_minor": 0
}
